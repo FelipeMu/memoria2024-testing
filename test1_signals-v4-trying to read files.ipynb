{
  "nbformat": 4,
  "nbformat_minor": 0,
  "metadata": {
    "colab": {
      "provenance": [],
      "mount_file_id": "15iOIgZG78GJlR78C42DVpmL4__JZaHc6",
      "authorship_tag": "ABX9TyM3EFEbr5cfE8unkOjtt3O2",
      "include_colab_link": true
    },
    "kernelspec": {
      "name": "python3",
      "display_name": "Python 3"
    },
    "language_info": {
      "name": "python"
    }
  },
  "cells": [
    {
      "cell_type": "markdown",
      "metadata": {
        "id": "view-in-github",
        "colab_type": "text"
      },
      "source": [
        "<a href=\"https://colab.research.google.com/github/FelipeMu/memoria2024-testing/blob/main/test1_signals-v4-trying%20to%20read%20files.ipynb\" target=\"_parent\"><img src=\"https://colab.research.google.com/assets/colab-badge.svg\" alt=\"Open In Colab\"/></a>"
      ]
    },
    {
      "cell_type": "markdown",
      "source": [
        "Conexión a Google drive"
      ],
      "metadata": {
        "id": "ugL0xgHfymuN"
      }
    },
    {
      "cell_type": "code",
      "source": [
        "from google.colab import drive\n",
        "drive.mount('/content/drive')"
      ],
      "metadata": {
        "colab": {
          "base_uri": "https://localhost:8080/"
        },
        "id": "E3dodNVk1sXv",
        "outputId": "db933112-6a49-4edf-9506-10087d3a8021"
      },
      "execution_count": 17,
      "outputs": [
        {
          "output_type": "stream",
          "name": "stdout",
          "text": [
            "Drive already mounted at /content/drive; to attempt to forcibly remount, call drive.mount(\"/content/drive\", force_remount=True).\n"
          ]
        }
      ]
    },
    {
      "cell_type": "markdown",
      "source": [
        "# Lectura de archivo\n",
        " Se procede a leer el archivo con extensión '.csv' - señal de PAM y VFSC (sujeto G1)"
      ],
      "metadata": {
        "id": "tQOS6X0EmHhH"
      }
    },
    {
      "cell_type": "code",
      "source": [
        "import csv\n",
        "import os\n",
        "# version3.0\n",
        "import pywt\n",
        "import numpy as np\n",
        "import matplotlib.pyplot as plt\n",
        "\n",
        "# Arreglo para almcenar los datos de las senales\n",
        "G1_PAM = [] # PAM: Presión Arterial Media\n",
        "G1_VSC = [] # VSC: Velocidad Sanguínea Cerebral\n",
        "\n",
        "\n",
        "#=================================================\n",
        "\n",
        "carpeta_csv = '/content/drive/MyDrive/Trabajo de titulación/Lectura y T.Wavelet/'\n",
        "archivos_csv = os.listdir(carpeta_csv)\n",
        "\n",
        "if os.path.exists(carpeta_csv):\n",
        "    print(\"La ruta de la carpeta es válida.\")\n",
        "else:\n",
        "    print(\"La ruta de la carpeta no es válida.\")\n",
        "\n",
        "\n",
        "# Visualizar los arhcivos existentes\n",
        "print(archivos_csv)\n",
        "\n",
        "#=================================================\n",
        "\n",
        "\n",
        "# Abre el archivo CSV en modo lectura\n",
        "with open('/content/drive/MyDrive/Trabajo de titulación/Lectura y T.Wavelet/G2_002.csv', newline='') as csvfile:\n",
        "    # Lee el archivo CSV usando el lector CSV\n",
        "    csv_reader = csv.reader(csvfile)\n",
        "\n",
        "    # Itera sobre cada fila en el archivo CSV\n",
        "    for row in csv_reader:\n",
        "        # Cada fila se convierte en una lista de valores, donde cada valor representa una celda en esa fila\n",
        "        G1_PAM.append(row[0])\n",
        "        G1_VSC.append(row[1])\n",
        "#Se elimina los nombre de las filas PAM y VFSC que estaban contenidas dentro de los arreglos\n",
        "del G1_PAM[0]\n",
        "del G1_VSC[0]\n",
        "\n",
        "G1_PAM = np.array(G1_PAM)\n",
        "G1_PAM = G1_PAM.astype(np.float64)\n"
      ],
      "metadata": {
        "id": "_-33Q5nMz0UH",
        "colab": {
          "base_uri": "https://localhost:8080/"
        },
        "outputId": "f6d020b1-6f71-4168-ca35-d55eda8caec4"
      },
      "execution_count": 21,
      "outputs": [
        {
          "output_type": "stream",
          "name": "stdout",
          "text": [
            "La ruta de la carpeta es válida.\n",
            "['G2_001.csv', 'G2_002.csv']\n"
          ]
        }
      ]
    },
    {
      "cell_type": "markdown",
      "source": [
        "# Preprocesamiento\n",
        "Se analizan los datos del archivo '.csv' antes de los respectivos análisis"
      ],
      "metadata": {
        "id": "WEB2G7Gi2WZ7"
      }
    },
    {
      "cell_type": "code",
      "source": [
        "# Se procede a realizar preprocesamiento de los datos a estudiar\n",
        "\n",
        "# Se analizan si tienen el mismo largo ambos arreglos de la senal G1\n",
        "len_distinto = False\n",
        "if len(G1_PAM) != len(G1_VSC):\n",
        "  len_distinto = True\n",
        "  print('Arreglos PAM y VSC con distinto largo.\\n')\n",
        "\n",
        "\n",
        "# Verificacion de valores nulos:\n",
        "i = 0\n",
        "vacios_PAM = 0\n",
        "vacios_VSC = 0\n",
        "while (i < len(G1_PAM)):\n",
        "  if G1_PAM[i] == '':\n",
        "    vacios_PAM = vacios_PAM + 1\n",
        "  if G1_VSC[i] == '':\n",
        "    vacios_VSC = vacios_VSC + 1\n",
        "  i = i + 1\n",
        "# Revision de valores nulos en el arreglo de la senal PAM\n",
        "if vacios_PAM != 0:\n",
        "  print('Arreglo señal PAM con ', vacios_PAM, 'vacíos.\\n')\n",
        "# Revision de valores nulos en el arreglo de la senal VSC\n",
        "if vacios_VSC != 0:\n",
        "  print('Arreglo señal VSC con ', vacios_VSC, 'vacíos.\\n')\n"
      ],
      "metadata": {
        "id": "bxzUstgr2Uxx"
      },
      "execution_count": 11,
      "outputs": []
    },
    {
      "cell_type": "markdown",
      "source": [
        "# Aplicación de la transformada Wavelet\n",
        "**¿Que realiza la T.Wavelet?**\n",
        "La transformación de la WT se realiza a través de una función llamada wavelet (o wavelet madre), con la que se descompone una señal en diferentes componentes de frecuencia que conforman una familia de funciones que son traslaciones y dilataciones de una función madre ψ (t). Este proceso de traslación y dilatación.\n",
        "\n",
        "\n",
        "\n",
        "Se estudia cúal de las familias de la T.Wavelets (Wavelets families) es la que genera menor error al aplicar su T. wavelet inversa\n",
        "inf: https://pywavelets.readthedocs.io/en/latest/regression/wavelet.html\n",
        "\n",
        "**Información de las familias de Wavelets**\n",
        "La calidad de la información obtenida a partir de un análisis donde se aplica la WT depende en gran medida de la wavelet madre utilizada, de modo que se debe considerar como una \"*etapa dentro del análisis*\" la selección de una wavelet madre adecuada para cada caso particular de estudio (Gómez etc al., 2013)\n",
        "\n",
        "**Dado la naturaleza de los datos es utilizará la CWN (Continuous Wavelet Transform).**\n",
        "\n",
        "**A considerar:**\n",
        "\n",
        "\n",
        "1.   Longitud de los filtros (Capacidad de capturar detalles finos vs Complejidad computacional)\n",
        "\n"
      ],
      "metadata": {
        "id": "_7S6BZs7C7Kc"
      }
    },
    {
      "cell_type": "markdown",
      "source": [
        "**A considerar:**\n",
        "1.   plt.imshow() se utiliza para mostrar la matriz de coeficientes de la CWT como *una imagen*.\n",
        "2.   La función np.abs() se usa para tomar el valor absoluto de los coeficientes para la visualización.\n",
        "3.   El argumento cmap='jet' define el mapa de colores que se utilizará para representar la amplitud de los coeficientes.\n",
        "4.  **Al no tener definida una función de escala, una wavelet determinada no puede ser utilizada en la aplicación de la DWT**\n",
        "\n",
        "    *   wavelets madres que tienen una función escala definida y por lo tanto es aplicable la \"DWT\":\n",
        "\n",
        "\n",
        "1.   Haar (harr)\n",
        "2.   Daubechies (db)\n",
        "3.   Symmlets (symN)\n",
        "4.   Coiflets (coifN)\n",
        "5.   Biorthogonal (BiorNr.Nd)\n",
        "6.   Reverse Biorthogonal (rBiorNR.Nd)\n",
        "7.   Discrete Meyer (dmey)\n",
        "\n",
        "\n",
        "\n",
        "\n",
        "\n",
        "\n",
        "6.   **coef_approx:** Estos coeficientes capturan las tendencias generales y las componentes de baja frecuencia de la señal.\n",
        "6.   **coef_details:** Estos coeficientes capturan cambios rápidos o detalles finos en la señal que pueden perderse en la aproximación\n",
        "\n",
        "(por cada nivel de descomposición se genera un conjunto de coeficientes de aproximación y detalles)\n",
        "\n",
        "**Desvanecimiento y tamaño de soporte:**\n",
        " La propiedad de desvanecimiento dicta que a medida que la frecuencia de una wavelet aumenta, su amplitud disminuye. Esta propiedad está estrechamente relacionada con el soporte de la wavelet. Cuanto más corto sea el soporte de una wavelet en el dominio del tiempo, mayor será su ancho de banda en el dominio de la frecuencia, lo que significa que cubrirá un rango más amplio de frecuencias."
      ],
      "metadata": {
        "id": "3mr2ISMK8AeV"
      }
    },
    {
      "cell_type": "code",
      "source": [
        "\n",
        "pywt.families()\n",
        "\n",
        "# Obtener una lista completa de cada familia Wavelets\n",
        "for family in pywt.families():\n",
        "    print(\"%s family: \" % family + ', '.join(pywt.wavelist(family)))\n",
        "\n"
      ],
      "metadata": {
        "colab": {
          "base_uri": "https://localhost:8080/"
        },
        "id": "i7txhUcxvCOf",
        "outputId": "529c3158-389e-4eaa-8400-be0f3c3ecae1"
      },
      "execution_count": 12,
      "outputs": [
        {
          "output_type": "stream",
          "name": "stdout",
          "text": [
            "haar family: haar\n",
            "db family: db1, db2, db3, db4, db5, db6, db7, db8, db9, db10, db11, db12, db13, db14, db15, db16, db17, db18, db19, db20, db21, db22, db23, db24, db25, db26, db27, db28, db29, db30, db31, db32, db33, db34, db35, db36, db37, db38\n",
            "sym family: sym2, sym3, sym4, sym5, sym6, sym7, sym8, sym9, sym10, sym11, sym12, sym13, sym14, sym15, sym16, sym17, sym18, sym19, sym20\n",
            "coif family: coif1, coif2, coif3, coif4, coif5, coif6, coif7, coif8, coif9, coif10, coif11, coif12, coif13, coif14, coif15, coif16, coif17\n",
            "bior family: bior1.1, bior1.3, bior1.5, bior2.2, bior2.4, bior2.6, bior2.8, bior3.1, bior3.3, bior3.5, bior3.7, bior3.9, bior4.4, bior5.5, bior6.8\n",
            "rbio family: rbio1.1, rbio1.3, rbio1.5, rbio2.2, rbio2.4, rbio2.6, rbio2.8, rbio3.1, rbio3.3, rbio3.5, rbio3.7, rbio3.9, rbio4.4, rbio5.5, rbio6.8\n",
            "dmey family: dmey\n",
            "gaus family: gaus1, gaus2, gaus3, gaus4, gaus5, gaus6, gaus7, gaus8\n",
            "mexh family: mexh\n",
            "morl family: morl\n",
            "cgau family: cgau1, cgau2, cgau3, cgau4, cgau5, cgau6, cgau7, cgau8\n",
            "shan family: shan\n",
            "fbsp family: fbsp\n",
            "cmor family: cmor\n"
          ]
        }
      ]
    },
    {
      "cell_type": "code",
      "source": [
        "# ***************************TESTING**********************************\n",
        "\n",
        "# version3.0\n",
        "\n",
        "# 1. ver que wavelet es la que presenta un menor RMSE\n",
        "# 2. hacer funcion que lea el archivo y cree un diccionario con los archivos encontrados (datos a alamacenar, nombre file,\n",
        "#    senal original, senal reconstruida, error RMSE)\n",
        "\n",
        "#estos son las wavelets a utilizar:\n",
        "\n",
        "#Haar (harr) discrete_families[0]\n",
        "#Daubechies (db) discrete_families[1]\n",
        "#Symmlets (symN) discrete_families[2]\n",
        "#Coiflets (coifN) discrete_families[3]\n",
        "#Biorthogonal (BiorNr.Nd) discrete_families[4]\n",
        "#Reverse Biorthogonal (rBiorNR.Nd) discrete_families[5]\n",
        "#Discrete Meyer (dmey) discrete_families[6]\n",
        "\n",
        "discrete_families = []\n",
        "for family in pywt.families():\n",
        "    discrete_families.append(pywt.wavelist(family))\n",
        "#Se almacenan solo las familias waveletes discretas que se utilizaran en un arreglo llamado discrete_families\n",
        "discrete_families = discrete_families[0:7]\n",
        "\n",
        "\n",
        "\n",
        "# Definir la familia de wavelets y el nivel de descomposicion\n",
        "# Nombre de funcion: apply_wavelet()\n",
        "# Descripcion: funcion encargada de aplicar la T.wavelet y T.wavelet inversa discreta\n",
        "#              a la senal que se esta analizando.\n",
        "# Entrada:\n",
        "#   wavelet: es un hijo de de las wavelets madres que funcionan con la DWT\n",
        "# Salida: -\n",
        "def apply_wavelet (wavelet):\n",
        "  level = 1\n",
        "  # Aplicar la transformada wavelet discreta\n",
        "  # **Lo normal es primero tener el cA1 y luego el cD1, el coef de aproximacion suele ser parecido a la senal y esta primero**\n",
        "  coefficients = pywt.wavedec(G1_PAM, wavelet, level=level)\n",
        "  # Reconstruir la senal a partir de los coeficientes\n",
        "  reconstructed_signal = pywt.waverec(coefficients, wavelet)\n",
        "  return reconstructed_signal\n",
        "\n",
        "\n",
        "def get_rmse(original_signal, predict_signal):\n",
        "  # Calcular el error absoluto entre la señal original y la reconstruida\n",
        "  absolute_error = np.abs(original_signal - predict_signal)\n",
        "\n",
        "  # Calcular el error cuadrático\n",
        "  squared_error = (original_signal - predict_signal) ** 2\n",
        "\n",
        "  # Calcular la media del error cuadrático\n",
        "  mean_squared_error = np.mean(squared_error)\n",
        "\n",
        "  # Calcular la raíz cuadrada de la media del error cuadrático (RMSE)\n",
        "  rmse = np.sqrt(mean_squared_error)\n",
        "  return rmse\n",
        "\n",
        "\n",
        "# Nombre de funcion: show_signals()\n",
        "# Descripcion: funcion encargada de mostrar como grafico la senal original y la\n",
        "#              la senal reconstruida obtenida de la wavelet inversa.\n",
        "# Entrada:\n",
        "#   OriginalPam: senal PAM original\n",
        "#   PredictPam: senal PAM reconstruida\n",
        "# Salida: -\n",
        "def show_signals (OriginalPam, PredictPam):\n",
        "  # Graficar ambas señales\n",
        "  plt.figure(figsize=(10, 5))\n",
        "  plt.plot(OriginalPam, label='Señal Original', color='blue', marker='o')\n",
        "  plt.plot(PredictPam, label='Señal Reconstruida', color='red', marker='x')\n",
        "  plt.title('Señal PAM Original vs Señal PAM Reconstruida')\n",
        "  plt.ylabel('Niveles CO2')\n",
        "  plt.xlabel('Tiempo')\n",
        "  plt.legend()\n",
        "  plt.grid(True)\n",
        "  plt.show()\n",
        "\n",
        "\n",
        "wavelets_discretes = []\n",
        "# Estructura del arreglo de diccionarios wavelets_discretes:\n",
        "#   *familiy_wavelet (tipo de dato: string]: corresponde a un hijo de una wavelet madre discreta\n",
        "#   *signal_rec (tipo de dato: array): corresponde a la senal reconstruida a partir de la aplicacion\n",
        "#               de la T.wavelet inversa.\n",
        "#   *error_wavelet (tipo de dato: float): corresponde al error RMSE. error promedio entre la senal\n",
        "#                                        original y la senal reconstruida.\n",
        "\n",
        "\n",
        "for family in discrete_families:\n",
        "  for children in family:\n",
        "    dicc_aux = {}\n",
        "    # se aplican todos los hijos de la wavelet madre\n",
        "    dicc_aux['family_wavelet'] = children\n",
        "    # se aplica la T.wavelet y la T.wavelet inversa\n",
        "    dicc_aux['signal_rec'] = apply_wavelet(children)\n",
        "    # se obtiene el error RMSE\n",
        "    dicc_aux['error_wavelet'] = get_rmse(G1_PAM, dicc_aux['signal_rec'])\n",
        "    # se agrega todo lo calculado en el arreglo dicc_discrete en forma de diccionario\n",
        "    wavelets_discretes.append(dicc_aux)\n",
        "\n",
        "print(wavelets_discretes)"
      ],
      "metadata": {
        "colab": {
          "base_uri": "https://localhost:8080/"
        },
        "id": "bPCEmzfh46Vy",
        "outputId": "0b033c5d-2ea0-4857-af4f-6521a2e422d5"
      },
      "execution_count": 13,
      "outputs": [
        {
          "output_type": "stream",
          "name": "stdout",
          "text": [
            "[{'family_wavelet': 'haar', 'signal_rec': array([113.86, 113.3 , 112.95, ..., 125.48, 125.83, 126.15]), 'error_wavelet': 1.9575886229461225e-14}, {'family_wavelet': 'db1', 'signal_rec': array([113.86, 113.3 , 112.95, ..., 125.48, 125.83, 126.15]), 'error_wavelet': 1.9575886229461225e-14}, {'family_wavelet': 'db2', 'signal_rec': array([113.86, 113.3 , 112.95, ..., 125.48, 125.83, 126.15]), 'error_wavelet': 1.641339986926561e-14}, {'family_wavelet': 'db3', 'signal_rec': array([113.86, 113.3 , 112.95, ..., 125.48, 125.83, 126.15]), 'error_wavelet': 1.537587378797792e-14}, {'family_wavelet': 'db4', 'signal_rec': array([113.86, 113.3 , 112.95, ..., 125.48, 125.83, 126.15]), 'error_wavelet': 1.7272136729539347e-14}, {'family_wavelet': 'db5', 'signal_rec': array([113.86, 113.3 , 112.95, ..., 125.48, 125.83, 126.15]), 'error_wavelet': 1.6844228337421267e-14}, {'family_wavelet': 'db6', 'signal_rec': array([113.86, 113.3 , 112.95, ..., 125.48, 125.83, 126.15]), 'error_wavelet': 1.8397637735205917e-14}, {'family_wavelet': 'db7', 'signal_rec': array([113.86, 113.3 , 112.95, ..., 125.48, 125.83, 126.15]), 'error_wavelet': 1.988078757200287e-14}, {'family_wavelet': 'db8', 'signal_rec': array([113.86, 113.3 , 112.95, ..., 125.48, 125.83, 126.15]), 'error_wavelet': 1.946509150180863e-14}, {'family_wavelet': 'db9', 'signal_rec': array([113.86, 113.3 , 112.95, ..., 125.48, 125.83, 126.15]), 'error_wavelet': 1.966201020987044e-14}, {'family_wavelet': 'db10', 'signal_rec': array([113.86, 113.3 , 112.95, ..., 125.48, 125.83, 126.15]), 'error_wavelet': 2.0605296534568643e-14}, {'family_wavelet': 'db11', 'signal_rec': array([113.86, 113.3 , 112.95, ..., 125.48, 125.83, 126.15]), 'error_wavelet': 2.1343215584994318e-14}, {'family_wavelet': 'db12', 'signal_rec': array([113.86, 113.3 , 112.95, ..., 125.48, 125.83, 126.15]), 'error_wavelet': 2.5387095930000385e-14}, {'family_wavelet': 'db13', 'signal_rec': array([113.86, 113.3 , 112.95, ..., 125.48, 125.83, 126.15]), 'error_wavelet': 2.3538775121538954e-14}, {'family_wavelet': 'db14', 'signal_rec': array([113.86, 113.3 , 112.95, ..., 125.48, 125.83, 126.15]), 'error_wavelet': 2.4061291685376893e-14}, {'family_wavelet': 'db15', 'signal_rec': array([113.86, 113.3 , 112.95, ..., 125.48, 125.83, 126.15]), 'error_wavelet': 2.4720779121531573e-14}, {'family_wavelet': 'db16', 'signal_rec': array([113.86, 113.3 , 112.95, ..., 125.48, 125.83, 126.15]), 'error_wavelet': 2.671035091071506e-14}, {'family_wavelet': 'db17', 'signal_rec': array([113.86, 113.3 , 112.95, ..., 125.48, 125.83, 126.15]), 'error_wavelet': 2.716199509071571e-14}, {'family_wavelet': 'db18', 'signal_rec': array([113.86, 113.3 , 112.95, ..., 125.48, 125.83, 126.15]), 'error_wavelet': 2.5893200781850143e-14}, {'family_wavelet': 'db19', 'signal_rec': array([113.86, 113.3 , 112.95, ..., 125.48, 125.83, 126.15]), 'error_wavelet': 2.6532635358472497e-14}, {'family_wavelet': 'db20', 'signal_rec': array([113.86, 113.3 , 112.95, ..., 125.48, 125.83, 126.15]), 'error_wavelet': 2.6297239919665754e-14}, {'family_wavelet': 'db21', 'signal_rec': array([113.86, 113.3 , 112.95, ..., 125.48, 125.83, 126.15]), 'error_wavelet': 2.7505690643407567e-14}, {'family_wavelet': 'db22', 'signal_rec': array([113.86, 113.3 , 112.95, ..., 125.48, 125.83, 126.15]), 'error_wavelet': 2.7132119376717134e-14}, {'family_wavelet': 'db23', 'signal_rec': array([113.86, 113.3 , 112.95, ..., 125.48, 125.83, 126.15]), 'error_wavelet': 3.308315886058695e-14}, {'family_wavelet': 'db24', 'signal_rec': array([113.86, 113.3 , 112.95, ..., 125.48, 125.83, 126.15]), 'error_wavelet': 2.7767364364278175e-14}, {'family_wavelet': 'db25', 'signal_rec': array([113.86, 113.3 , 112.95, ..., 125.48, 125.83, 126.15]), 'error_wavelet': 2.9362103024819155e-14}, {'family_wavelet': 'db26', 'signal_rec': array([113.86, 113.3 , 112.95, ..., 125.48, 125.83, 126.15]), 'error_wavelet': 3.186352224338434e-14}, {'family_wavelet': 'db27', 'signal_rec': array([113.86, 113.3 , 112.95, ..., 125.48, 125.83, 126.15]), 'error_wavelet': 3.0696753169530256e-14}, {'family_wavelet': 'db28', 'signal_rec': array([113.86, 113.3 , 112.95, ..., 125.48, 125.83, 126.15]), 'error_wavelet': 2.99794090050964e-14}, {'family_wavelet': 'db29', 'signal_rec': array([113.86, 113.3 , 112.95, ..., 125.48, 125.83, 126.15]), 'error_wavelet': 3.030899847209383e-14}, {'family_wavelet': 'db30', 'signal_rec': array([113.86, 113.3 , 112.95, ..., 125.48, 125.83, 126.15]), 'error_wavelet': 2.9936544192482086e-14}, {'family_wavelet': 'db31', 'signal_rec': array([113.86, 113.3 , 112.95, ..., 125.48, 125.83, 126.15]), 'error_wavelet': 3.1157858530836983e-14}, {'family_wavelet': 'db32', 'signal_rec': array([113.86, 113.3 , 112.95, ..., 125.48, 125.83, 126.15]), 'error_wavelet': 3.0564362875297923e-14}, {'family_wavelet': 'db33', 'signal_rec': array([113.86, 113.3 , 112.95, ..., 125.48, 125.83, 126.15]), 'error_wavelet': 3.274846880177436e-14}, {'family_wavelet': 'db34', 'signal_rec': array([113.86, 113.3 , 112.95, ..., 125.48, 125.83, 126.15]), 'error_wavelet': 3.127693496238049e-14}, {'family_wavelet': 'db35', 'signal_rec': array([113.86, 113.3 , 112.95, ..., 125.48, 125.83, 126.15]), 'error_wavelet': 3.53105553367767e-14}, {'family_wavelet': 'db36', 'signal_rec': array([113.86, 113.3 , 112.95, ..., 125.48, 125.83, 126.15]), 'error_wavelet': 3.442864540742785e-14}, {'family_wavelet': 'db37', 'signal_rec': array([113.86, 113.3 , 112.95, ..., 125.48, 125.83, 126.15]), 'error_wavelet': 3.3551756322595244e-14}, {'family_wavelet': 'db38', 'signal_rec': array([113.86, 113.3 , 112.95, ..., 125.48, 125.83, 126.15]), 'error_wavelet': 3.401191161216637e-14}, {'family_wavelet': 'sym2', 'signal_rec': array([113.86, 113.3 , 112.95, ..., 125.48, 125.83, 126.15]), 'error_wavelet': 2.607581906205825e-13}, {'family_wavelet': 'sym3', 'signal_rec': array([113.86, 113.3 , 112.95, ..., 125.48, 125.83, 126.15]), 'error_wavelet': 7.139555698352461e-12}, {'family_wavelet': 'sym4', 'signal_rec': array([113.86, 113.3 , 112.95, ..., 125.48, 125.83, 126.15]), 'error_wavelet': 1.1639578840011297e-13}, {'family_wavelet': 'sym5', 'signal_rec': array([113.86, 113.3 , 112.95, ..., 125.48, 125.83, 126.15]), 'error_wavelet': 6.728456391222112e-14}, {'family_wavelet': 'sym6', 'signal_rec': array([113.86, 113.3 , 112.95, ..., 125.48, 125.83, 126.15]), 'error_wavelet': 1.7686907866242504e-13}, {'family_wavelet': 'sym7', 'signal_rec': array([113.86, 113.3 , 112.95, ..., 125.48, 125.83, 126.15]), 'error_wavelet': 1.6524164525598798e-13}, {'family_wavelet': 'sym8', 'signal_rec': array([113.86, 113.3 , 112.95, ..., 125.48, 125.83, 126.15]), 'error_wavelet': 2.1784703662497727e-13}, {'family_wavelet': 'sym9', 'signal_rec': array([113.86, 113.3 , 112.95, ..., 125.48, 125.83, 126.15]), 'error_wavelet': 4.094074519134956e-14}, {'family_wavelet': 'sym10', 'signal_rec': array([113.86, 113.3 , 112.95, ..., 125.48, 125.83, 126.15]), 'error_wavelet': 3.081103128273192e-14}, {'family_wavelet': 'sym11', 'signal_rec': array([113.86, 113.3 , 112.95, ..., 125.48, 125.83, 126.15]), 'error_wavelet': 2.9098511601137954e-14}, {'family_wavelet': 'sym12', 'signal_rec': array([113.86, 113.3 , 112.95, ..., 125.48, 125.83, 126.15]), 'error_wavelet': 5.0896507450996785e-14}, {'family_wavelet': 'sym13', 'signal_rec': array([113.86, 113.3 , 112.95, ..., 125.48, 125.83, 126.15]), 'error_wavelet': 8.475790086193878e-14}, {'family_wavelet': 'sym14', 'signal_rec': array([113.86, 113.3 , 112.95, ..., 125.48, 125.83, 126.15]), 'error_wavelet': 1.9566976655838992e-13}, {'family_wavelet': 'sym15', 'signal_rec': array([113.86, 113.3 , 112.95, ..., 125.48, 125.83, 126.15]), 'error_wavelet': 3.0461054010759177e-13}, {'family_wavelet': 'sym16', 'signal_rec': array([113.86, 113.3 , 112.95, ..., 125.48, 125.83, 126.15]), 'error_wavelet': 1.2112876004663267e-12}, {'family_wavelet': 'sym17', 'signal_rec': array([113.86, 113.3 , 112.95, ..., 125.48, 125.83, 126.15]), 'error_wavelet': 6.700102255537069e-13}, {'family_wavelet': 'sym18', 'signal_rec': array([113.86, 113.3 , 112.95, ..., 125.48, 125.83, 126.15]), 'error_wavelet': 2.1673687599085356e-12}, {'family_wavelet': 'sym19', 'signal_rec': array([113.86, 113.3 , 112.95, ..., 125.48, 125.83, 126.15]), 'error_wavelet': 3.4788749784939634e-12}, {'family_wavelet': 'sym20', 'signal_rec': array([113.86, 113.3 , 112.95, ..., 125.48, 125.83, 126.15]), 'error_wavelet': 1.2079008061195317e-11}, {'family_wavelet': 'coif1', 'signal_rec': array([113.86, 113.3 , 112.95, ..., 125.48, 125.83, 126.15]), 'error_wavelet': 1.7826710645307627e-14}, {'family_wavelet': 'coif2', 'signal_rec': array([113.86, 113.3 , 112.95, ..., 125.48, 125.83, 126.15]), 'error_wavelet': 2.324987395504374e-14}, {'family_wavelet': 'coif3', 'signal_rec': array([113.86, 113.3 , 112.95, ..., 125.48, 125.83, 126.15]), 'error_wavelet': 2.4215290004088637e-14}, {'family_wavelet': 'coif4', 'signal_rec': array([113.86, 113.3 , 112.95, ..., 125.48, 125.83, 126.15]), 'error_wavelet': 2.4432023254608768e-14}, {'family_wavelet': 'coif5', 'signal_rec': array([113.86, 113.3 , 112.95, ..., 125.48, 125.83, 126.15]), 'error_wavelet': 2.506828790236102e-14}, {'family_wavelet': 'coif6', 'signal_rec': array([113.86, 113.3 , 112.95, ..., 125.48, 125.83, 126.15]), 'error_wavelet': 3.0903024329832316e-14}, {'family_wavelet': 'coif7', 'signal_rec': array([113.86, 113.3 , 112.95, ..., 125.48, 125.83, 126.15]), 'error_wavelet': 3.4704337062665755e-14}, {'family_wavelet': 'coif8', 'signal_rec': array([113.86, 113.3 , 112.95, ..., 125.48, 125.83, 126.15]), 'error_wavelet': 3.8959685431168625e-14}, {'family_wavelet': 'coif9', 'signal_rec': array([113.86, 113.3 , 112.95, ..., 125.48, 125.83, 126.15]), 'error_wavelet': 3.289056312402831e-14}, {'family_wavelet': 'coif10', 'signal_rec': array([113.86, 113.3 , 112.95, ..., 125.48, 125.83, 126.15]), 'error_wavelet': 3.4571653853369283e-14}, {'family_wavelet': 'coif11', 'signal_rec': array([113.86, 113.3 , 112.95, ..., 125.48, 125.83, 126.15]), 'error_wavelet': 4.6460487362612826e-14}, {'family_wavelet': 'coif12', 'signal_rec': array([113.86, 113.3 , 112.95, ..., 125.48, 125.83, 126.15]), 'error_wavelet': 3.7055186631093543e-14}, {'family_wavelet': 'coif13', 'signal_rec': array([113.86, 113.3 , 112.95, ..., 125.48, 125.83, 126.15]), 'error_wavelet': 4.9373161068071446e-14}, {'family_wavelet': 'coif14', 'signal_rec': array([113.86, 113.3 , 112.95, ..., 125.48, 125.83, 126.15]), 'error_wavelet': 4.5861652262069026e-14}, {'family_wavelet': 'coif15', 'signal_rec': array([113.86, 113.3 , 112.95, ..., 125.48, 125.83, 126.15]), 'error_wavelet': 4.044246197911463e-14}, {'family_wavelet': 'coif16', 'signal_rec': array([113.86, 113.3 , 112.95, ..., 125.48, 125.83, 126.15]), 'error_wavelet': 4.9156400471195296e-14}, {'family_wavelet': 'coif17', 'signal_rec': array([113.86, 113.3 , 112.95, ..., 125.48, 125.83, 126.15]), 'error_wavelet': 4.552292325825422e-14}, {'family_wavelet': 'bior1.1', 'signal_rec': array([113.86, 113.3 , 112.95, ..., 125.48, 125.83, 126.15]), 'error_wavelet': 1.9575886229461225e-14}, {'family_wavelet': 'bior1.3', 'signal_rec': array([113.86, 113.3 , 112.95, ..., 125.48, 125.83, 126.15]), 'error_wavelet': 2.1425390271468892e-14}, {'family_wavelet': 'bior1.5', 'signal_rec': array([113.86, 113.3 , 112.95, ..., 125.48, 125.83, 126.15]), 'error_wavelet': 2.268785148285814e-14}, {'family_wavelet': 'bior2.2', 'signal_rec': array([113.86, 113.3 , 112.95, ..., 125.48, 125.83, 126.15]), 'error_wavelet': 1.2629492646346699e-14}, {'family_wavelet': 'bior2.4', 'signal_rec': array([113.86, 113.3 , 112.95, ..., 125.48, 125.83, 126.15]), 'error_wavelet': 1.6824154169477218e-14}, {'family_wavelet': 'bior2.6', 'signal_rec': array([113.86, 113.3 , 112.95, ..., 125.48, 125.83, 126.15]), 'error_wavelet': 1.91535739317624e-14}, {'family_wavelet': 'bior2.8', 'signal_rec': array([113.86, 113.3 , 112.95, ..., 125.48, 125.83, 126.15]), 'error_wavelet': 2.2279027880595753e-14}, {'family_wavelet': 'bior3.1', 'signal_rec': array([113.86, 113.3 , 112.95, ..., 125.48, 125.83, 126.15]), 'error_wavelet': 2.751797380868887e-14}, {'family_wavelet': 'bior3.3', 'signal_rec': array([113.86, 113.3 , 112.95, ..., 125.48, 125.83, 126.15]), 'error_wavelet': 1.4028963594069746e-14}, {'family_wavelet': 'bior3.5', 'signal_rec': array([113.86, 113.3 , 112.95, ..., 125.48, 125.83, 126.15]), 'error_wavelet': 1.4715538408678617e-14}, {'family_wavelet': 'bior3.7', 'signal_rec': array([113.86, 113.3 , 112.95, ..., 125.48, 125.83, 126.15]), 'error_wavelet': 1.657321454740216e-14}, {'family_wavelet': 'bior3.9', 'signal_rec': array([113.86, 113.3 , 112.95, ..., 125.48, 125.83, 126.15]), 'error_wavelet': 1.7682054185492125e-14}, {'family_wavelet': 'bior4.4', 'signal_rec': array([113.86, 113.3 , 112.95, ..., 125.48, 125.83, 126.15]), 'error_wavelet': 7.119464545896092e-13}, {'family_wavelet': 'bior5.5', 'signal_rec': array([113.86, 113.3 , 112.95, ..., 125.48, 125.83, 126.15]), 'error_wavelet': 1.2346057306941707e-12}, {'family_wavelet': 'bior6.8', 'signal_rec': array([113.86, 113.3 , 112.95, ..., 125.48, 125.83, 126.15]), 'error_wavelet': 1.186245115903162e-13}, {'family_wavelet': 'rbio1.1', 'signal_rec': array([113.86, 113.3 , 112.95, ..., 125.48, 125.83, 126.15]), 'error_wavelet': 1.9575886229461225e-14}, {'family_wavelet': 'rbio1.3', 'signal_rec': array([113.86, 113.3 , 112.95, ..., 125.48, 125.83, 126.15]), 'error_wavelet': 2.1104380588750395e-14}, {'family_wavelet': 'rbio1.5', 'signal_rec': array([113.86, 113.3 , 112.95, ..., 125.48, 125.83, 126.15]), 'error_wavelet': 2.1911967710546014e-14}, {'family_wavelet': 'rbio2.2', 'signal_rec': array([113.86, 113.3 , 112.95, ..., 125.48, 125.83, 126.15]), 'error_wavelet': 1.4952460139111377e-14}, {'family_wavelet': 'rbio2.4', 'signal_rec': array([113.86, 113.3 , 112.95, ..., 125.48, 125.83, 126.15]), 'error_wavelet': 1.8987002543053425e-14}, {'family_wavelet': 'rbio2.6', 'signal_rec': array([113.86, 113.3 , 112.95, ..., 125.48, 125.83, 126.15]), 'error_wavelet': 2.0519837925780433e-14}, {'family_wavelet': 'rbio2.8', 'signal_rec': array([113.86, 113.3 , 112.95, ..., 125.48, 125.83, 126.15]), 'error_wavelet': 2.2842232781903072e-14}, {'family_wavelet': 'rbio3.1', 'signal_rec': array([113.86, 113.3 , 112.95, ..., 125.48, 125.83, 126.15]), 'error_wavelet': 3.142998473276467e-14}, {'family_wavelet': 'rbio3.3', 'signal_rec': array([113.86, 113.3 , 112.95, ..., 125.48, 125.83, 126.15]), 'error_wavelet': 2.0709992268770495e-14}, {'family_wavelet': 'rbio3.5', 'signal_rec': array([113.86, 113.3 , 112.95, ..., 125.48, 125.83, 126.15]), 'error_wavelet': 2.053959070230258e-14}, {'family_wavelet': 'rbio3.7', 'signal_rec': array([113.86, 113.3 , 112.95, ..., 125.48, 125.83, 126.15]), 'error_wavelet': 2.0781664628654386e-14}, {'family_wavelet': 'rbio3.9', 'signal_rec': array([113.86, 113.3 , 112.95, ..., 125.48, 125.83, 126.15]), 'error_wavelet': 2.1254364465313837e-14}, {'family_wavelet': 'rbio4.4', 'signal_rec': array([113.86, 113.3 , 112.95, ..., 125.48, 125.83, 126.15]), 'error_wavelet': 7.124557722703229e-13}, {'family_wavelet': 'rbio5.5', 'signal_rec': array([113.86, 113.3 , 112.95, ..., 125.48, 125.83, 126.15]), 'error_wavelet': 1.233805561291606e-12}, {'family_wavelet': 'rbio6.8', 'signal_rec': array([113.86, 113.3 , 112.95, ..., 125.48, 125.83, 126.15]), 'error_wavelet': 1.1726123952494443e-13}, {'family_wavelet': 'dmey', 'signal_rec': array([113.85570491, 113.29423761, 112.943186  , ..., 125.50074989,\n",
            "       125.85201609, 126.17312054]), 'error_wavelet': 0.010816056860966901}]\n"
          ]
        }
      ]
    },
    {
      "cell_type": "markdown",
      "source": [
        "# Selección de la mejor Wavelet madre\n",
        "Se procede a mostrar todos los errores RMSE calculados en un grafico general y se selecciona la wavelet que presente el mínimo error."
      ],
      "metadata": {
        "id": "SFdVncLz_zML"
      }
    },
    {
      "cell_type": "code",
      "source": [
        "# Extraer errores\n",
        "errors = []\n",
        "for dicc in wavelets_discretes:\n",
        "  errors.append(dicc['error_wavelet'])\n",
        "\n",
        "# Extraer nombres de wavelets\n",
        "wavelets_names = []\n",
        "for dicc in wavelets_discretes:\n",
        "  wavelets_names.append(dicc['family_wavelet'])\n",
        "\n",
        "\n",
        "# Ajustar tamaño de la imagen\n",
        "plt.figure(figsize=(10, 5))\n",
        "\n",
        "# Crear el gráfico de puntos\n",
        "plt.scatter(wavelets_names, errors, c='b')\n",
        "\n",
        "# Calcular el error mínimo\n",
        "min_error = np.min(errors)\n",
        "\n",
        "# Encontrar el índice del error mínimo\n",
        "min_error_index = np.argmin(errors)\n",
        "\n",
        "# Resaltar el error mínimo\n",
        "plt.scatter(wavelets_names[min_error_index], errors[min_error_index], c='r', s=100)\n",
        "\n",
        "# Ajustar el eje Y\n",
        "plt.ylim([1e-15, 1e-10])\n",
        "plt.yscale('log', base=10)\n",
        "\n",
        "# Añadir etiquetas a los puntos\n",
        "# ... (código de etiquetas, si lo deseas) ...\n",
        "\n",
        "# Mostrar leyenda\n",
        "plt.legend(['Error RMSE'])\n",
        "\n",
        "# Agregar anotación para el error mínimo\n",
        "min_error_wavelet = wavelets_names[min_error_index]\n",
        "plt.annotate(f\"RMSE Mínimo: {min_error_wavelet} ({min_error:.2e})\", (min_error_wavelet, errors[min_error_index]),\n",
        "             bbox=dict(boxstyle=\"round\", fc=\"w\"), ha=\"center\", va=\"bottom\")\n",
        "\n",
        "\n",
        "plt.show()"
      ],
      "metadata": {
        "colab": {
          "base_uri": "https://localhost:8080/",
          "height": 453
        },
        "id": "EMoqWH-r_ywR",
        "outputId": "cc97f81a-0e57-4df5-8d7c-1f74a1f57e3e"
      },
      "execution_count": 15,
      "outputs": [
        {
          "output_type": "display_data",
          "data": {
            "text/plain": [
              "<Figure size 1000x500 with 1 Axes>"
            ],
            "image/png": "[encoded data removed]"
          },
          "metadata": {}
        }
      ]
    }
  ]
}