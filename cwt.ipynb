{
  "nbformat": 4,
  "nbformat_minor": 0,
  "metadata": {
    "colab": {
      "provenance": [],
      "authorship_tag": "ABX9TyPohseCzeRxOL0H7vR8ryjo",
      "include_colab_link": true
    },
    "kernelspec": {
      "name": "python3",
      "display_name": "Python 3"
    },
    "language_info": {
      "name": "python"
    }
  },
  "cells": [
    {
      "cell_type": "markdown",
      "metadata": {
        "id": "view-in-github",
        "colab_type": "text"
      },
      "source": [
        "<a href=\"https://colab.research.google.com/github/FelipeMu/memoria2024-testing/blob/main/cwt.ipynb\" target=\"_parent\"><img src=\"https://colab.research.google.com/assets/colab-badge.svg\" alt=\"Open In Colab\"/></a>"
      ]
    },
    {
      "cell_type": "markdown",
      "source": [
        "Conexión a Google drive e instalación de paquetes"
      ],
      "metadata": {
        "id": "ugL0xgHfymuN"
      }
    },
    {
      "cell_type": "code",
      "source": [
        "from google.colab import drive\n",
        "drive.mount('/content/drive')\n",
        "\n",
        "!pip install pycwt\n",
        "!pip install ssqueezepy"
      ],
      "metadata": {
        "colab": {
          "base_uri": "https://localhost:8080/"
        },
        "id": "E3dodNVk1sXv",
        "outputId": "bb0b6232-c05d-4785-942a-15aef8f8ba81"
      },
      "execution_count": 1,
      "outputs": [
        {
          "output_type": "stream",
          "name": "stdout",
          "text": [
            "Mounted at /content/drive\n",
            "Collecting pycwt\n",
            "  Downloading pycwt-0.4.0b0-py3-none-any.whl (753 kB)\n",
            "\u001b[2K     \u001b[90m━━━━━━━━━━━━━━━━━━━━━━━━━━━━━━━━━━━━━━━━\u001b[0m \u001b[32m753.5/753.5 kB\u001b[0m \u001b[31m6.0 MB/s\u001b[0m eta \u001b[36m0:00:00\u001b[0m\n",
            "\u001b[?25hRequirement already satisfied: numpy<2,>=1.24 in /usr/local/lib/python3.10/dist-packages (from pycwt) (1.25.2)\n",
            "Requirement already satisfied: scipy<2,>=1.10 in /usr/local/lib/python3.10/dist-packages (from pycwt) (1.11.4)\n",
            "Requirement already satisfied: matplotlib<4,>=3.7 in /usr/local/lib/python3.10/dist-packages (from pycwt) (3.7.1)\n",
            "Requirement already satisfied: tqdm<5,>=4.65 in /usr/local/lib/python3.10/dist-packages (from pycwt) (4.66.2)\n",
            "Requirement already satisfied: contourpy>=1.0.1 in /usr/local/lib/python3.10/dist-packages (from matplotlib<4,>=3.7->pycwt) (1.2.1)\n",
            "Requirement already satisfied: cycler>=0.10 in /usr/local/lib/python3.10/dist-packages (from matplotlib<4,>=3.7->pycwt) (0.12.1)\n",
            "Requirement already satisfied: fonttools>=4.22.0 in /usr/local/lib/python3.10/dist-packages (from matplotlib<4,>=3.7->pycwt) (4.51.0)\n",
            "Requirement already satisfied: kiwisolver>=1.0.1 in /usr/local/lib/python3.10/dist-packages (from matplotlib<4,>=3.7->pycwt) (1.4.5)\n",
            "Requirement already satisfied: packaging>=20.0 in /usr/local/lib/python3.10/dist-packages (from matplotlib<4,>=3.7->pycwt) (24.0)\n",
            "Requirement already satisfied: pillow>=6.2.0 in /usr/local/lib/python3.10/dist-packages (from matplotlib<4,>=3.7->pycwt) (9.4.0)\n",
            "Requirement already satisfied: pyparsing>=2.3.1 in /usr/local/lib/python3.10/dist-packages (from matplotlib<4,>=3.7->pycwt) (3.1.2)\n",
            "Requirement already satisfied: python-dateutil>=2.7 in /usr/local/lib/python3.10/dist-packages (from matplotlib<4,>=3.7->pycwt) (2.8.2)\n",
            "Requirement already satisfied: six>=1.5 in /usr/local/lib/python3.10/dist-packages (from python-dateutil>=2.7->matplotlib<4,>=3.7->pycwt) (1.16.0)\n",
            "Installing collected packages: pycwt\n",
            "Successfully installed pycwt-0.4.0b0\n",
            "Collecting ssqueezepy\n",
            "  Downloading ssqueezepy-0.6.5-py3-none-any.whl (127 kB)\n",
            "\u001b[2K     \u001b[90m━━━━━━━━━━━━━━━━━━━━━━━━━━━━━━━━━━━━━━━━\u001b[0m \u001b[32m127.2/127.2 kB\u001b[0m \u001b[31m2.7 MB/s\u001b[0m eta \u001b[36m0:00:00\u001b[0m\n",
            "\u001b[?25hRequirement already satisfied: numpy in /usr/local/lib/python3.10/dist-packages (from ssqueezepy) (1.25.2)\n",
            "Requirement already satisfied: numba in /usr/local/lib/python3.10/dist-packages (from ssqueezepy) (0.58.1)\n",
            "Requirement already satisfied: scipy in /usr/local/lib/python3.10/dist-packages (from ssqueezepy) (1.11.4)\n",
            "Requirement already satisfied: llvmlite<0.42,>=0.41.0dev0 in /usr/local/lib/python3.10/dist-packages (from numba->ssqueezepy) (0.41.1)\n",
            "Installing collected packages: ssqueezepy\n",
            "Successfully installed ssqueezepy-0.6.5\n"
          ]
        }
      ]
    },
    {
      "cell_type": "code",
      "source": [
        "import csv\n",
        "import os\n",
        "# version3.0\n",
        "import pywt\n",
        "import numpy as np\n",
        "import matplotlib.pyplot as plt\n",
        "# plot fourier transform for comparison\n",
        "from numpy.fft import rfft, rfftfreq\n",
        "# Para la icwt\n",
        "import pycwt\n",
        "# Para pasar plot a imagen rgb\n",
        "from PIL import Image\n",
        "from io import BytesIO\n",
        "\n",
        "# periodo de muestreo\n",
        "ts = 0.2 # seg\n",
        "\n",
        "# frecuencia de muestreo\n",
        "fs = 1.0/ts # Hz\n",
        "\n",
        "print('Periodo de muestreo de señales:', ts, '[seg]')\n",
        "print('Frecuencia de muestreo de señales:', fs, '[Hz]\\n')\n",
        "# Arreglo para almcenar los datos de las senales\n",
        "pam = [] # PAM: Presión Arterial Media\n",
        "vsc = [] # VSC: Velocidad Sanguínea Cerebral\n",
        "\n",
        "#=================================================\n",
        "\n",
        "folder_csv = '/content/drive/MyDrive/Trabajo de titulación/Lectura y T.Wavelet/'\n",
        "files_csv = os.listdir(folder_csv)\n",
        "\n",
        "\n",
        "# Visualizar los archivos existentes\n",
        "print('Archivos encontrados:\\n')\n",
        "print(files_csv)\n",
        "\n",
        "# Se procede a almacenar cada archivo .csv en un diccionario y luego en un arreglo de senales\n",
        "signals = []\n",
        "for each_csv in files_csv:\n",
        "    dicc_signal_aux = {}\n",
        "\n",
        "    carpeta_csv = '/content/drive/MyDrive/Trabajo de titulación/Lectura y T.Wavelet/'\n",
        "    archivo_csv = each_csv\n",
        "    #concatenar ruta y csv para acceder a los datos\n",
        "    ruta_archivo = os.path.join(carpeta_csv, archivo_csv)\n",
        "    # lectura de los archivos\n",
        "\n",
        "\n",
        "    # Arreglo para almcenar los datos de las senales\n",
        "    pam = [] # PAM: Presión Arterial Media\n",
        "    vsc = [] # VSC: Velocidad Sanguínea Cerebral\n",
        "\n",
        "    # Abre el archivo CSV en modo lectura\n",
        "    with open(ruta_archivo, newline='') as csvfile:\n",
        "        # Lee el archivo CSV usando el lector CSV\n",
        "        csv_reader = csv.reader(csvfile)\n",
        "\n",
        "        # Itera sobre cada fila en el archivo CSV\n",
        "        for row in csv_reader:\n",
        "            # Cada fila se convierte en una lista de valores, donde cada valor representa una celda en esa fila\n",
        "            pam.append(row[0])\n",
        "            vsc.append(row[1])\n",
        "\n",
        "    #Se elimina los nombre de las filas PAM y VFSC que estaban contenidas dentro de los arreglos\n",
        "    del pam[0]\n",
        "    del vsc[0]\n",
        "\n",
        "    pam = np.array(pam)\n",
        "    pam = pam.astype(np.float64)\n",
        "    # Se toma un largo de puntos de potencia de 2, de esta manera existe una\n",
        "    # compatibilidad con el nivel de descomposión otorgado a la T.Wavelet\n",
        "    pam = pam[0:1024]\n",
        "\n",
        "    # Se toma un largo de puntos de potencia de 2, de esta manera existe una\n",
        "    # compatibilidad con el nivel de descomposión otorgado a la T.Wavelet\n",
        "    vsc = np.array(vsc)\n",
        "    vsc = vsc.astype(np.float64)\n",
        "    vsc = vsc[0:1024]\n",
        "\n",
        "    # se guarda el nombre del archivo y la senal de pam en el diccioanrio\n",
        "    dicc_signal_aux['name_file'] = each_csv\n",
        "    dicc_signal_aux['signal_pam'] = pam\n",
        "    dicc_signal_aux['signal_vsc'] = vsc\n",
        "\n",
        "    signals.append(dicc_signal_aux)\n",
        "\n",
        "\n",
        "print('\\n**** mostrando el arreglo de diccionarios de csv****\\n')\n",
        "\n",
        "# verificnado contenidos del arreglo de diccionarios de csv's\n",
        "for dicc in signals:\n",
        "  print('nombre del archivo: ',dicc['name_file'])\n",
        "  print('señal PAM: ', dicc['signal_pam'], '- N° de instancias', len(dicc['signal_pam']))\n",
        "  print('señal vsc: ', dicc['signal_vsc'], '- N° de instancias', len(dicc['signal_vsc']))\n",
        "  print('----------------------------------------')\n",
        "\n",
        "\n",
        "\n",
        "\n"
      ],
      "metadata": {
        "id": "_-33Q5nMz0UH",
        "colab": {
          "base_uri": "https://localhost:8080/"
        },
        "outputId": "c1abfcbf-aeb9-4dff-9d50-75f3b3436cb8"
      },
      "execution_count": 2,
      "outputs": [
        {
          "output_type": "stream",
          "name": "stdout",
          "text": [
            "Periodo de muestreo de señales: 0.2 [seg]\n",
            "Frecuencia de muestreo de señales: 5.0 [Hz]\n",
            "\n",
            "Archivos encontrados:\n",
            "\n",
            "['G2_001.csv', 'G2_002.csv']\n",
            "\n",
            "**** mostrando el arreglo de diccionarios de csv****\n",
            "\n",
            "nombre del archivo:  G2_001.csv\n",
            "señal PAM:  [126.63 124.02 121.81 ... 113.75 114.71 115.63] - N° de instancias 1024\n",
            "señal vsc:  [60.79 58.59 56.76 ... 58.51 58.52 58.45] - N° de instancias 1024\n",
            "----------------------------------------\n",
            "nombre del archivo:  G2_002.csv\n",
            "señal PAM:  [113.86 113.3  112.95 ... 118.94 119.25 119.55] - N° de instancias 1024\n",
            "señal vsc:  [54.16 52.44 50.75 ... 69.69 70.07 70.5 ] - N° de instancias 1024\n",
            "----------------------------------------\n"
          ]
        }
      ]
    },
    {
      "cell_type": "markdown",
      "source": [
        "# Preprocesamiento\n",
        "Se analizan los datos del archivo '.csv' antes de los respectivos análisis"
      ],
      "metadata": {
        "id": "WEB2G7Gi2WZ7"
      }
    },
    {
      "cell_type": "code",
      "source": [
        "# Se procede a realizar preprocesamiento de los datos a estudiar\n",
        "\n",
        "def es_potencia_de_dos(numero, signal_name):\n",
        "  # Verifica si el logaritmo en base 2 del número es un número entero\n",
        "  if np.log2(numero) % 1 == 0:\n",
        "      print('El largo de', signal_name, 'es potencia de 2')\n",
        "  else:\n",
        "      print('El largo de', signal_name, 'no es potencia de 2. Por favor corregir la cantidad de muestras de la señal.')\n",
        "\n",
        "\n",
        "\n",
        "# Se analizan si tienen el mismo largo ambos arreglos (pam y vsc) y que sean \"potencias de 2\"\n",
        "for dicc in signals:\n",
        "  len_distinto = False\n",
        "  if len(dicc['signal_pam']) != len(dicc['signal_vsc']):\n",
        "    len_distinto = True\n",
        "    print('Arreglos PAM y VSC con distinto largo.\\n')\n",
        "  print(dicc['name_file'], '|| Numero de muestras:', len(dicc['signal_pam']))\n",
        "  es_potencia_de_dos(len(dicc['signal_pam']), 'señal PAM')\n",
        "  es_potencia_de_dos(len(dicc['signal_vsc']), 'señal VSC')\n",
        "  print('\\n')\n"
      ],
      "metadata": {
        "id": "bxzUstgr2Uxx",
        "colab": {
          "base_uri": "https://localhost:8080/"
        },
        "outputId": "c9df87d5-d82c-4b86-ca37-f07ae81741ec"
      },
      "execution_count": 3,
      "outputs": [
        {
          "output_type": "stream",
          "name": "stdout",
          "text": [
            "G2_001.csv || Numero de muestras: 1024\n",
            "El largo de señal PAM es potencia de 2\n",
            "El largo de señal VSC es potencia de 2\n",
            "\n",
            "\n",
            "G2_002.csv || Numero de muestras: 1024\n",
            "El largo de señal PAM es potencia de 2\n",
            "El largo de señal VSC es potencia de 2\n",
            "\n",
            "\n"
          ]
        }
      ]
    },
    {
      "cell_type": "markdown",
      "source": [
        "# Aplicación de la transformada Wavelet\n",
        "**¿Que realiza la T.Wavelet?**\n",
        "La transformación de la WT se realiza a través de una función llamada wavelet (o wavelet madre), con la que se descompone una señal en diferentes componentes de frecuencia que conforman una familia de funciones que son traslaciones y dilataciones de una función madre ψ (t). Este proceso de traslación y dilatación.\n",
        "\n",
        "\n",
        "\n",
        "Se estudia cúal de las familias de la T.Wavelets (Wavelets families) es la que genera menor error al aplicar su T. wavelet inversa!\n",
        "\n",
        "**Información de las familias de Wavelets**\n",
        "La calidad de la información obtenida a partir de un análisis donde se aplica la WT depende en gran medida de la wavelet madre utilizada, de modo que se debe considerar como una \"*etapa dentro del análisis*\" la selección de una wavelet madre adecuada para cada caso particular de estudio (Gómez etc al., 2013)\n",
        "\n",
        "**Dado la naturaleza de los datos es utilizará la CWN (Continuous Wavelet Transform).**\n",
        "\n",
        "\n",
        "1.   Longitud de los filtros (Capacidad de capturar detalles finos vs Complejidad computacional)\n",
        "\n"
      ],
      "metadata": {
        "id": "_7S6BZs7C7Kc"
      }
    },
    {
      "cell_type": "markdown",
      "source": [
        "**A considerar:**\n",
        "1.   plt.imshow() se utiliza para mostrar la matriz de coeficientes de la CWT como *una imagen*.\n",
        "2.   La función np.abs() se usa para tomar el valor absoluto de los coefi **texto en negrita**cientes para la visualización.\n",
        "3.   El argumento cmap='jet' define el mapa de colores que se utilizará para representar la amplitud de los coeficientes.\n",
        "4.  **Al no tener definida una función de escala, una wavelet determinada no puede ser utilizada en la aplicación de la DWT**\n",
        "\n",
        "    *   wavelets madres para la Wavelet Continua:\n",
        "\n",
        "1.  **(gaus family)**: gaus1, gaus2, gaus3, gaus4, gaus5, gaus6, gaus7, gaus8\n",
        "2.  **(mexh family)**: mexh\n",
        "3.  **(morl family)**: morl\n",
        "4.  **(cgau family)**: cgau1, cgau2, cgau3, cgau4, cgau5, cgau6, cgau7, cgau8\n",
        "5.  **(shan family)**: shan\n",
        "6.  **(fbsp family)**: fbsp\n",
        "7.  **(cmor family)**: cmor\n",
        "\n",
        "\n",
        "\n",
        "\n",
        "✅\n",
        "6.   **coef_approx (baja frecuencia):** Estos coeficientes capturan las tendencias generales y las componentes de baja frecuencia de la señal.\n",
        "6.   **coef_details (alta frecuencia:):** Estos coeficientes capturan cambios rápidos o detalles finos en la señal que pueden perderse en la aproximación\n",
        "\n",
        "(por cada nivel de descomposición se genera un conjunto de coeficientes de aproximación y detalles)\n",
        "\n",
        "**Desvanecimiento y tamaño de soporte:**\n",
        " La propiedad de desvanecimiento dicta que a medida que la frecuencia de una wavelet aumenta, su amplitud disminuye. Esta propiedad está estrechamente relacionada con el soporte de la wavelet. Cuanto más corto sea el soporte de una wavelet en el dominio del tiempo, mayor será su ancho de banda en el dominio de la frecuencia, lo que significa que cubrirá un rango más amplio de frecuencias.\n",
        "\n",
        "\n",
        " El parámetro scale (s) usado en el análisis Wavelet es\n",
        "similar a la escala usada en la confección de mapas. Como en\n",
        "el caso de los mapas, las escalas grandes corresponden a vistas\n",
        "globales (no detalladas) mientras que escalas más pequeñas\n",
        "corresponden a vistas más detalladas. Similarmente, en\n",
        "términos de frecuencia, las bajas frecuencias (altas escalas)\n",
        "corresponden a la información global de una señal (es decir, lo\n",
        "que generalmente marca la tendencia de la señal), mientras\n",
        "que las altas frecuencias (bajas escalas) corresponden a\n",
        "información detallada de patrones ocultos de la señal (los que\n",
        "usualmente tienen una duración reducida de tiempo)"
      ],
      "metadata": {
        "id": "3mr2ISMK8AeV"
      }
    },
    {
      "cell_type": "code",
      "source": [
        "\n",
        "pywt.families()\n",
        "\n",
        "# Obtener una lista completa de cada familia Wavelets\n",
        "for family in pywt.families():\n",
        "    print(\"%s family: \" % family + ', '.join(pywt.wavelist(family)))\n",
        "\n"
      ],
      "metadata": {
        "id": "i7txhUcxvCOf",
        "colab": {
          "base_uri": "https://localhost:8080/"
        },
        "outputId": "01bf36f6-2174-47f1-d1ce-3208eac9931f"
      },
      "execution_count": null,
      "outputs": [
        {
          "output_type": "stream",
          "name": "stdout",
          "text": [
            "haar family: haar\n",
            "db family: db1, db2, db3, db4, db5, db6, db7, db8, db9, db10, db11, db12, db13, db14, db15, db16, db17, db18, db19, db20, db21, db22, db23, db24, db25, db26, db27, db28, db29, db30, db31, db32, db33, db34, db35, db36, db37, db38\n",
            "sym family: sym2, sym3, sym4, sym5, sym6, sym7, sym8, sym9, sym10, sym11, sym12, sym13, sym14, sym15, sym16, sym17, sym18, sym19, sym20\n",
            "coif family: coif1, coif2, coif3, coif4, coif5, coif6, coif7, coif8, coif9, coif10, coif11, coif12, coif13, coif14, coif15, coif16, coif17\n",
            "bior family: bior1.1, bior1.3, bior1.5, bior2.2, bior2.4, bior2.6, bior2.8, bior3.1, bior3.3, bior3.5, bior3.7, bior3.9, bior4.4, bior5.5, bior6.8\n",
            "rbio family: rbio1.1, rbio1.3, rbio1.5, rbio2.2, rbio2.4, rbio2.6, rbio2.8, rbio3.1, rbio3.3, rbio3.5, rbio3.7, rbio3.9, rbio4.4, rbio5.5, rbio6.8\n",
            "dmey family: dmey\n",
            "gaus family: gaus1, gaus2, gaus3, gaus4, gaus5, gaus6, gaus7, gaus8\n",
            "mexh family: mexh\n",
            "morl family: morl\n",
            "cgau family: cgau1, cgau2, cgau3, cgau4, cgau5, cgau6, cgau7, cgau8\n",
            "shan family: shan\n",
            "fbsp family: fbsp\n",
            "cmor family: cmor\n"
          ]
        }
      ]
    },
    {
      "cell_type": "markdown",
      "source": [
        "# Identificación de las Wavelets madres a utilizar en la aplicación de CWT"
      ],
      "metadata": {
        "id": "-HjrJ2QjaXmK"
      }
    },
    {
      "cell_type": "code",
      "source": [
        "wavelist = pywt.wavelist(kind='continuous')\n",
        "print(wavelist)\n"
      ],
      "metadata": {
        "colab": {
          "base_uri": "https://localhost:8080/"
        },
        "id": "SIpzrBH_aUwI",
        "outputId": "f0cb87cb-8c7d-4b40-9ae9-4aa65f668ec1"
      },
      "execution_count": null,
      "outputs": [
        {
          "output_type": "stream",
          "name": "stdout",
          "text": [
            "['cgau1', 'cgau2', 'cgau3', 'cgau4', 'cgau5', 'cgau6', 'cgau7', 'cgau8', 'cmor', 'fbsp', 'gaus1', 'gaus2', 'gaus3', 'gaus4', 'gaus5', 'gaus6', 'gaus7', 'gaus8', 'mexh', 'morl', 'shan']\n"
          ]
        }
      ]
    },
    {
      "cell_type": "markdown",
      "source": [
        "# Información detalla de las CW madres"
      ],
      "metadata": {
        "id": "VWgFsa-Pdp5h"
      }
    },
    {
      "cell_type": "code",
      "source": [
        "# Ver informacion sobre las wavelets madres continuas\n",
        "for w in wavelist:\n",
        "    print(pywt.ContinuousWavelet(w))\n",
        "    print('\\n')\n",
        "\n"
      ],
      "metadata": {
        "id": "jPhoddJsbEOK"
      },
      "execution_count": null,
      "outputs": []
    },
    {
      "cell_type": "markdown",
      "source": [
        "# Análisis CWT: Búsqueda de CWT con min(error)"
      ],
      "metadata": {
        "id": "m5ynfJIVgHmY"
      }
    },
    {
      "cell_type": "code",
      "source": [
        "#Bucle para pasar por todas las CWT y calculo de error NMSE\n",
        "\n"
      ],
      "metadata": {
        "id": "Lu_qVjzxgUO1"
      },
      "execution_count": null,
      "outputs": []
    },
    {
      "cell_type": "markdown",
      "source": [
        "# Aplicación de la CWT sobre la señal de entrada (VSC)\n",
        "\n",
        "1.  *frecuencias altas -> escalas pequeñas*\n",
        "2.  *frecuencias bajas -> escalas grandes*\n",
        "\n",
        "**La definición del rango de escalas depende de varios factores:**\n",
        "\n",
        "  1.  Ancho de banda de interés: Determina el rango de frecuencias que te interesa analizar en tu señal. Por ejemplo, si estás interesado en frecuencias bajas, podrías elegir escalas más grandes. Si estás interesado en frecuencias altas, podrías elegir escalas más pequeñas.\n",
        "\n",
        "  2.  Resolución temporal y frecuencial: La CWT proporciona una representación conjunta de la señal en el dominio del tiempo y de la frecuencia. La elección del rango de escalas debe equilibrar la resolución temporal y frecuencial. Escalas más pequeñas proporcionarán una mejor resolución en frecuencia pero una peor resolución temporal, y viceversa.\n",
        "\n",
        "  3. Conocimiento del dominio del problema: Si tienes conocimiento previo sobre las características de la señal que estás analizando, esto puede ayudarte a elegir un rango de escalas adecuado. Por ejemplo, si sabes que tu señal contiene componentes de alta frecuencia, puedes incluir escalas más pequeñas para capturar estas características.\n",
        "\n",
        "  4.  Experimentación: En muchos casos, puede ser útil realizar experimentos con diferentes rangos de escalas y observar cómo afecta esto a la representación de la señal. Puedes ajustar el rango de escalas y observar cómo cambian las características de la CWT.\n",
        "\n",
        "  **Con respecto al rango de la escalas:**\n",
        "\n",
        "  En el contexto de la CWT, las escalas representan diferentes frecuencias y resoluciones temporales a las que se examina la señal. Una escala más pequeña corresponde a una frecuencia más alta pero una resolución temporal más baja, mientras que una escala más grande corresponde a una frecuencia más baja pero una mejor resolución temporal.\n",
        "\n",
        "   Las escalas más grandes corresponden al estiramiento de la wavelet. Por ejemplo, en una escala = 10, la wavelet se estira en un factor de 10\n",
        "\n",
        "   [*] El aliasing ocurre cuando la frecuencia de muestreo es menor que el doble de la frecuencia máxima presente en la señal continua, según el teorema del muestreo de Nyquist-Shannon.\n",
        "\n",
        "   [*] Es conveniente escribir las escalas como potencias fraccionarias de dos. ( Torrence & Compo, 1998)\n",
        "\n",
        "\n",
        "#   En relación a la ICWT:\n",
        "Dado que la transformada de wavelet es un filtro pasa banda con una función de respuesta conocida (la función de wavelet), es posible reconstruir la serie temporal original utilizando ya sea deconvolución o el filtro inverso. Esto es sencillo para la transformada de wavelet ortogonal (que tiene una base ortogonal), pero para la transformada de wavelet continua es complicado debido a la redundancia en tiempo y escala. Sin embargo, esta redundancia también permite reconstruir la serie temporal utilizando una función de wavelet completamente diferente, la más fácil de las cuales es una función delta (δ) (Farge 1992). En este caso, la serie temporal reconstruida es simplemente la suma de la parte real de la transformada de wavelet sobre todas las escalas ( Torrence & Compo, 1998)\n",
        "\n",
        "\n",
        "\n",
        "[Captura.PNG](data:image/png;base64,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)\n"
      ],
      "metadata": {
        "id": "1GOAwNgEbE16"
      }
    },
    {
      "cell_type": "markdown",
      "source": [
        "**Analizar Transformada de Fourier para ver rango de frecuencias de la señal y aplicación de la CWT**"
      ],
      "metadata": {
        "id": "ico6nasNtIFA"
      }
    },
    {
      "cell_type": "code",
      "source": [
        "\n",
        "from PIL import Image\n",
        "from io import BytesIO\n",
        "\n",
        "# Nombre de funcion: apply_fft()\n",
        "# Descripcion: funcion encargada de aplicar la fft y mostrar grafico amplitud vs freq\n",
        "# Entrada:\n",
        "#   signal [array]: senal vsc a analizar\n",
        "#   sampling_period [float]: periodo de muestreo\n",
        "# Salida:\n",
        "#   - grafico amplitud vs freq\n",
        "def apply_fft(signal, ts):\n",
        "  # Paso 1: Aplicación de la Transformada de Fourier\n",
        "  transformada = np.fft.fft(signal)\n",
        "  # Paso 2: Calcular las frecuencias correspondientes\n",
        "  frecuencias = np.fft.fftfreq(len(signal), d=ts)\n",
        "\n",
        "  freq_max = max(frecuencias)\n",
        "  freq_min = 2.50\n",
        "  abs_freq = np.abs(frecuencias)\n",
        "  for f in abs_freq:\n",
        "    if f <= freq_min and f != 0.00:\n",
        "      freq_min = f\n",
        "  print('La frecuencia minima es:',freq_min)\n",
        "  print('La frecuencia maxima es:',freq_max)\n",
        "\n",
        "  # Paso 5: Graficar amplitud vs. frecuencia\n",
        "  plt.plot(frecuencias, np.abs(transformada))\n",
        "  plt.xlabel('Frecuencia (Hz)')\n",
        "  plt.ylabel('Amplitud')\n",
        "  plt.title('Transformada de Fourier')\n",
        "  plt.grid(True)\n",
        "  # Mostrando la frecuencia maxima de la señal\n",
        "  plt.text(0.95, 0.95, f'freq_max: {freq_max:.2f} Hz', transform=plt.gca().transAxes,\n",
        "          fontsize=10, ha='right', va='top')\n",
        "  plt.show()\n",
        "\n",
        "###########################################################################################\n",
        "###########################################################################################\n",
        "###########################################################################################\n",
        "\n",
        "ts = 0.2 # periodo de muestreo\n",
        "fs = 1/ts # frecuencia de muestreo\n",
        "\n",
        "# Aplicacion de CWT y espectros\n",
        "for s in signals:\n",
        "\n",
        "  print('\\n')\n",
        "  print('SEÑAL:', s['name_file'])\n",
        "  # Paso 1: Preparar las entradas para la aplicacion de la fft y CWT\n",
        "  n = len(s['signal_vsc'])  # cantidad de muestras de la senal\n",
        "  t = np.linspace(0, n * ts, n)  # tiempo, con un periodo de muestreo de 0.2 segundos\n",
        "  signal_to_analize = s['signal_vsc']\n",
        "\n",
        "\n",
        "  # Paso 2: analizar FFT\n",
        "  # Llamada a funcion que aplica la transformada de Fourier\n",
        "  apply_fft(signal_to_analize, ts)\n",
        "\n",
        "  # Paso 3: Elegir la wavelet y las escalas para la CWT\n",
        "  wavelet = 'morl'  # tipo de wavelet\n",
        "  scales = np.arange(1, 513)  # rango de escalas a aplicar\n",
        "\n",
        "  # Paso 4: Aplicar la CWT\n",
        "  coeficientes, frecuencias = pywt.cwt(signal_to_analize, scales, wavelet, sampling_period=ts)\n",
        "\n",
        "  # Paso 5: Graficar el resultado de la CWT como un espectrograma\n",
        "  plt.figure(figsize=(12, 6))\n",
        "  plt.imshow(np.abs(coeficientes), aspect='auto', extent=[0, t[-1], scales[0], scales[-1]], cmap='jet')\n",
        "  plt.colorbar(label='Magnitud')\n",
        "  plt.xlabel('Tiempo (s)')\n",
        "  plt.ylabel('Escala')\n",
        "  plt.title('Transformada Wavelet Continua (CWT)')\n",
        "  plt.show()\n",
        "  #fig = plt.gcf()\n",
        "  #print(fig)\n",
        "\n",
        "\n",
        "\n",
        "\n",
        "  # PARA WAVELET COMPLEJA\n",
        "  #En caso de usar wavelet madre **compleja**, abs a todo, menos la ultima fila y columna\n",
        "  #cwtmatr = np.abs(coef[:-1, :-1])\n",
        "  # Normaliza los valores de coef entre 0 y 255\n",
        "  #cwt_normalized = (coef - coef.min()) / (coef.max() - coef.min()) * 255\n",
        "  # Expande las dimensiones de cwt_normalized para tener la forma (altura, ancho, 3)\n",
        "  #cwt_rgb = np.stack((cwt_normalized,) * 3, axis=-1)\n",
        "  # cwt_rgb a tipo entero\n",
        "  #cwt_rgb = np.uint8(cwt_rgb)\n",
        "  # Muestra la imagen RGB\n",
        "  #plt.imshow(cwt_rgb)\n",
        "  #plt.show()\n"
      ],
      "metadata": {
        "id": "gkLf1_rUdyRW"
      },
      "execution_count": null,
      "outputs": []
    },
    {
      "cell_type": "markdown",
      "source": [
        "# Selección del rango de escalas a utilizar\n",
        "Se utiliza la FFT y una función brindada por la biblioteca PyWavelet (función: pywt.scale2frequency()) para tener una aproximación del rango de escalas que se debe utilizar, esto tomando en cuenta la frecuencia máxima y mínima de nuestra señal."
      ],
      "metadata": {
        "id": "z10M6-NLHH7F"
      }
    },
    {
      "cell_type": "code",
      "source": [
        "# Analizar \"escala\", teniendo en cuenta que la freq maxima de la senal es de 2.5 [Hz]\n",
        "# freq_max = 2.4951171875 [Hz]\n",
        "# freq_min = 0.0048828125 [Hz]\n",
        "# scale max -> puede ser 512 0 1024(1024 analiza freq muy bajas)\n",
        "frequencies = pywt.scale2frequency('morl', [1, 512]) / ts\n",
        "print(frequencies)\n"
      ],
      "metadata": {
        "id": "M5pfiDfXHkJD",
        "colab": {
          "base_uri": "https://localhost:8080/"
        },
        "outputId": "5ba651b2-df00-4fae-897f-a523c7247a1c"
      },
      "execution_count": 5,
      "outputs": [
        {
          "output_type": "stream",
          "name": "stdout",
          "text": [
            "[4.0625     0.00793457]\n"
          ]
        }
      ]
    },
    {
      "cell_type": "markdown",
      "source": [
        "# Aplicación de ICWT (Inverse Continuous Wavelet Transform)"
      ],
      "metadata": {
        "id": "tjKQ_1-XYqfG"
      }
    },
    {
      "cell_type": "code",
      "source": [
        "\n",
        "\n",
        "\n",
        "def _check_parameter_wavelet(wavelet):\n",
        "    mothers = {'morlet': pycwt.mothers.Morlet}\n",
        "    # Checks if input parameter is a string. For backwards\n",
        "    # compatibility with Python 2 we check either if instance is a\n",
        "    # `basestring` or a `str`.\n",
        "    try:\n",
        "        if isinstance(wavelet, basestring):\n",
        "            return mothers[wavelet]()\n",
        "    except NameError:\n",
        "        if isinstance(wavelet, str):\n",
        "            return mothers[wavelet]()\n",
        "    # Otherwise, return itself.\n",
        "    return\n",
        "\n",
        "\n",
        "\n",
        "def icwt(W, sj, dt, dj, wavelet='morlet'):\n",
        "    \"\"\"Inverse continuous wavelet transform.\n",
        "    Parameters\n",
        "    ----------\n",
        "    W : numpy.ndarray\n",
        "        Wavelet transform, the result of the `cwt` function.\n",
        "    sj : numpy.ndarray\n",
        "        Vector of scale indices as returned by the `cwt` function.\n",
        "    dt : float\n",
        "        Sample spacing.\n",
        "    dj : float, optional\n",
        "        Spacing between discrete scales as used in the `cwt`\n",
        "        function. Default value is 0.25.\n",
        "    wavelet : instance of Wavelet class, or string\n",
        "        Mother wavelet class. Default is Morlet\n",
        "    Returns\n",
        "    -------\n",
        "    iW : numpy.ndarray\n",
        "        Inverse wavelet transform.\n",
        "    Example\n",
        "    -------\n",
        "    >> mother = wavelet.Morlet()\n",
        "    >> wave, scales, freqs, coi, fft, fftfreqs = wavelet.cwt(var,\n",
        "           0.25, 0.25, 0.5, 28, mother)\n",
        "    >> iwave = wavelet.icwt(wave, scales, 0.25, 0.25, mother)\n",
        "    \"\"\"\n",
        "    wavelet = _check_parameter_wavelet(wavelet)\n",
        "\n",
        "    a, b = W.shape\n",
        "    c = sj.size\n",
        "    if a == c:\n",
        "        sj = (np.ones([b, 1]) * sj).transpose()\n",
        "    elif b == c:\n",
        "        sj = np.ones([a, 1]) * sj\n",
        "    else:\n",
        "        raise ValueError('Input array dimensions do not match.')\n",
        "\n",
        "    # As of Torrence and Compo (1998), eq. (11)\n",
        "    iW = (dj * np.sqrt(dt) / (wavelet.cdelta * wavelet.psi(0)) *\n",
        "          (np.real(W) / np.sqrt(sj)).sum(axis=0))\n",
        "\n",
        "    return iW\n",
        "\n",
        "\n",
        "\n",
        "\n",
        "\n",
        "# Parameters\n",
        "N  = len(signals[0]['signal_vsc'])\n",
        "dt = 0.2\n",
        "dj = 1/4\n",
        "\n",
        "#Create a signal forexample\n",
        "sig = signals[0]['signal_vsc']\n",
        "\n",
        "# DO the CWT analysis\n",
        "W, sj, freqs, coi,_,_ = pycwt.cwt(sig, dt, dj, wavelet='morlet')\n",
        "\n",
        "# original icwt\n",
        "iwave                 = pycwt.icwt(W, sj, dt, dj, 'morlet')\n",
        "\n",
        "# fixed icwt\n",
        "iwave_fixed           = icwt(W, sj, dt, dj, 'morlet')\n",
        "\n",
        "#Plot results\n",
        "plt.plot(iwave, label='ICWT')\n",
        "plt.plot(iwave_fixed, label='fixed ICWT')\n",
        "plt.plot(sig, label='Original')\n",
        "\n",
        "plt.legend()\n",
        "\n"
      ],
      "metadata": {
        "id": "QnBaI6M0Y0Hb"
      },
      "execution_count": null,
      "outputs": []
    },
    {
      "cell_type": "code",
      "source": [
        "\n",
        "\n",
        "# Nombre de funcion: apply_fft()\n",
        "# Descripcion: funcion encargada de aplicar la fft y mostrar grafico amplitud vs freq\n",
        "# Entrada:\n",
        "#   signal [array]: senal vsc a analizar\n",
        "#   sampling_period [float]: periodo de muestreo\n",
        "# Salida:\n",
        "#   - grafico amplitud vs freq\n",
        "def apply_fft(signal, ts):\n",
        "  # Paso 1: Aplicación de la Transformada de Fourier\n",
        "  transformada = np.fft.fft(signal)\n",
        "  # Paso 2: Calcular las frecuencias correspondientes\n",
        "  frecuencias = np.fft.fftfreq(len(signal), d=ts)\n",
        "\n",
        "  freq_max = max(frecuencias)\n",
        "  freq_min = 2.50\n",
        "  abs_freq = np.abs(frecuencias)\n",
        "  for f in abs_freq:\n",
        "    if f <= freq_min and f != 0.00:\n",
        "      freq_min = f\n",
        "  print('La frecuencia minima es:',freq_min)\n",
        "  print('La frecuencia maxima es:',freq_max)\n",
        "\n",
        "  # Paso 5: Graficar amplitud vs. frecuencia\n",
        "  plt.plot(frecuencias, np.abs(transformada))\n",
        "  plt.xlabel('Frecuencia (Hz)')\n",
        "  plt.ylabel('Amplitud')\n",
        "  plt.title('Transformada de Fourier')\n",
        "  plt.grid(True)\n",
        "  # Mostrando la frecuencia maxima de la señal\n",
        "  plt.text(0.95, 0.95, f'freq_max: {freq_max:.2f} Hz', transform=plt.gca().transAxes,\n",
        "          fontsize=10, ha='right', va='top')\n",
        "  plt.show()\n",
        "\n",
        "###########################################################################################\n",
        "###########################################################################################\n",
        "###########################################################################################\n",
        "\n",
        "ts = 0.2 # periodo de muestreo\n",
        "fs = 1/ts # frecuencia de muestreo\n",
        "\n",
        "# Aplicacion de CWT y espectros\n",
        "for s in signals:\n",
        "\n",
        "  print('\\n')\n",
        "  print('SEÑAL:', s['name_file'])\n",
        "  # Paso 1: Preparar las entradas para la aplicacion de la fft y CWT\n",
        "  n = len(s['signal_vsc'])  # cantidad de muestras de la senal\n",
        "  t = np.linspace(0, n * ts, n)  # tiempo, con un periodo de muestreo de 0.2 segundos\n",
        "  signal_to_analize = s['signal_vsc']\n",
        "\n",
        "\n",
        "  # Paso 2: analizar FFT\n",
        "  # Llamada a funcion que aplica la transformada de Fourier\n",
        "  apply_fft(signal_to_analize, ts)\n",
        "\n",
        "  # Paso 3: Elegir la wavelet y las escalas para la CWT\n",
        "  wavelet = 'morl'  # tipo de wavelet\n",
        "  scales = np.arange(1, 513)  # rango de escalas a aplicar\n",
        "\n",
        "  # Paso 4: Aplicar la CWT\n",
        "  coeficientes, frecuencias = pywt.cwt(signal_to_analize, scales, wavelet, sampling_period=ts)\n",
        "\n",
        "\n",
        "  # Crear el espectrograma pero sin ejes ni elementos adicionales\n",
        "  fig, ax = plt.subplots(figsize=(12, 6))\n",
        "  im = ax.imshow(np.abs(coeficientes), aspect='auto', extent=[0, t[-1], scales[0], scales[-1]], cmap='jet')\n",
        "\n",
        "  # Quitar elementos innecesarios\n",
        "  ax.axis('off')  # Desactivar todo el eje\n",
        "  ax.set_frame_on(False)  # Deshabilitar el marco del gráfico\n",
        "\n",
        "  # Guardar el gráfico como imagen en memoria\n",
        "  buffer = BytesIO()\n",
        "  plt.savefig(buffer, format='png', bbox_inches='tight', pad_inches=0)  # Sin márgenes ni espacios adicionales\n",
        "  buffer.seek(0)\n",
        "\n",
        "  # Convertir a imagen PIL y luego a matriz RGB\n",
        "  image = Image.open(buffer)\n",
        "\n",
        "\n",
        "  # La imagen tiene 4 canales (4to canal: alpha(transparencia)), se puede eliminar dicho canal con:\n",
        "  if image.mode == 'RGBA':\n",
        "      # Convertir a RGB para eliminar el canal alfa\n",
        "      image = image.convert('RGB')\n",
        "\n",
        "\n",
        "  image_rgb = np.array(image)\n",
        "  # Guardando en cada diccionario asociado a una senal su respectiva matriz de imagen rgb\n",
        "  s['image_rgb'] = image_rgb\n",
        "\n",
        "  # Puedes verificar la matriz RGB y su tamaño\n",
        "  print(\"Dimensiones de la matriz RGB:\", image_rgb.shape)  # Debe ser (altura, ancho, 3)\n",
        "\n",
        "  print('IMAGEN CONVERTIDA A MATRIZ')\n",
        "  # Mostrar la matriz RGB para verificar\n",
        "  plt.imshow(image_rgb)\n",
        "  plt.axis('off')  # Sin ejes para mejor visualización\n",
        "  plt.show()\n",
        "\n",
        "\n",
        "  # PARA WAVELET COMPLEJA\n",
        "  #En caso de usar wavelet madre **compleja**, abs a todo, menos la ultima fila y columna\n",
        "  #cwtmatr = np.abs(coef[:-1, :-1])\n",
        "  # Normaliza los valores de coef entre 0 y 255\n",
        "  #cwt_normalized = (coef - coef.min()) / (coef.max() - coef.min()) * 255\n",
        "  # Expande las dimensiones de cwt_normalized para tener la forma (altura, ancho, 3)\n",
        "  #cwt_rgb = np.stack((cwt_normalized,) * 3, axis=-1)\n",
        "  # cwt_rgb a tipo entero\n",
        "  #cwt_rgb = np.uint8(cwt_rgb)\n",
        "  # Muestra la imagen RGB\n",
        "  #plt.imshow(cwt_rgb)\n",
        "  #plt.show()\n",
        "\n",
        "for s in signals:\n",
        "  print(s)"
      ],
      "metadata": {
        "id": "q96MnaGuY-EK"
      },
      "execution_count": null,
      "outputs": []
    }
  ]
}